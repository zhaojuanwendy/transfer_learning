{
 "cells": [
  {
   "cell_type": "markdown",
   "metadata": {},
   "source": [
    "# NW Data"
   ]
  },
  {
   "cell_type": "code",
   "execution_count": 137,
   "metadata": {
    "collapsed": true
   },
   "outputs": [],
   "source": [
    "import matplotlib.pyplot as plt\n",
    "%matplotlib inline\n",
    "import numpy as np\n",
    "import pandas as pd\n",
    "import seaborn as sns\n",
    "sns.set(color_codes=True)\n",
    "from sklearn import preprocessing\n",
    "from sklearn.preprocessing import normalize"
   ]
  },
  {
   "cell_type": "markdown",
   "metadata": {},
   "source": [
    "## 1) Data loading"
   ]
  },
  {
   "cell_type": "code",
   "execution_count": 138,
   "metadata": {},
   "outputs": [],
   "source": [
    "train_df = pd.read_csv(\"data/UNSW_NB15_training-set.csv\") "
   ]
  },
  {
   "cell_type": "code",
   "execution_count": 139,
   "metadata": {},
   "outputs": [
    {
     "data": {
      "text/plain": [
       "(82332, 45)"
      ]
     },
     "execution_count": 139,
     "metadata": {},
     "output_type": "execute_result"
    }
   ],
   "source": [
    "train_df.shape"
   ]
  },
  {
   "cell_type": "code",
   "execution_count": 140,
   "metadata": {},
   "outputs": [
    {
     "data": {
      "text/html": [
       "<div>\n",
       "<style>\n",
       "    .dataframe thead tr:only-child th {\n",
       "        text-align: right;\n",
       "    }\n",
       "\n",
       "    .dataframe thead th {\n",
       "        text-align: left;\n",
       "    }\n",
       "\n",
       "    .dataframe tbody tr th {\n",
       "        vertical-align: top;\n",
       "    }\n",
       "</style>\n",
       "<table border=\"1\" class=\"dataframe\">\n",
       "  <thead>\n",
       "    <tr style=\"text-align: right;\">\n",
       "      <th></th>\n",
       "      <th>Class</th>\n",
       "      <th>Count</th>\n",
       "      <th>Percentage</th>\n",
       "    </tr>\n",
       "  </thead>\n",
       "  <tbody>\n",
       "    <tr>\n",
       "      <th>0</th>\n",
       "      <td>1</td>\n",
       "      <td>45332</td>\n",
       "      <td>55.060001</td>\n",
       "    </tr>\n",
       "    <tr>\n",
       "      <th>1</th>\n",
       "      <td>0</td>\n",
       "      <td>37000</td>\n",
       "      <td>44.939999</td>\n",
       "    </tr>\n",
       "  </tbody>\n",
       "</table>\n",
       "</div>"
      ],
      "text/plain": [
       "   Class  Count  Percentage\n",
       "0      1  45332   55.060001\n",
       "1      0  37000   44.939999"
      ]
     },
     "execution_count": 140,
     "metadata": {},
     "output_type": "execute_result"
    }
   ],
   "source": [
    "train_y = train_df['label']\n",
    "train_y_df = train_y.reset_index()\n",
    "cnt_y = train_y_df.label.value_counts().reset_index()\n",
    "cnt_y.columns = ['Class', 'Count']\n",
    "total_y = cnt_y.Count.sum()\n",
    "cnt_y[\"Percentage\"] =(cnt_y.Count/total_y)*100\n",
    "cnt_y"
   ]
  },
  {
   "cell_type": "code",
   "execution_count": 141,
   "metadata": {},
   "outputs": [
    {
     "data": {
      "text/plain": [
       "<matplotlib.text.Text at 0x127b647f0>"
      ]
     },
     "execution_count": 141,
     "metadata": {},
     "output_type": "execute_result"
    },
    {
     "data": {
      "image/png": "[encoded data removed]",
      "text/plain": [
       "<matplotlib.figure.Figure at 0x127b3a6a0>"
      ]
     },
     "metadata": {},
     "output_type": "display_data"
    }
   ],
   "source": [
    "alpha_bar_chart = 0.55\n",
    "train_df['attack_cat'].value_counts().plot(kind='bar', alpha=alpha_bar_chart)\n",
    "# puts a title on our graph\n",
    "plt.title(\"Distribution of category\")  "
   ]
  },
  {
   "cell_type": "markdown",
   "metadata": {},
   "source": [
    "## Classification"
   ]
  },
  {
   "cell_type": "code",
   "execution_count": 142,
   "metadata": {},
   "outputs": [
    {
     "data": {
      "text/html": [
       "<div>\n",
       "<style>\n",
       "    .dataframe thead tr:only-child th {\n",
       "        text-align: right;\n",
       "    }\n",
       "\n",
       "    .dataframe thead th {\n",
       "        text-align: left;\n",
       "    }\n",
       "\n",
       "    .dataframe tbody tr th {\n",
       "        vertical-align: top;\n",
       "    }\n",
       "</style>\n",
       "<table border=\"1\" class=\"dataframe\">\n",
       "  <thead>\n",
       "    <tr style=\"text-align: right;\">\n",
       "      <th></th>\n",
       "      <th>id</th>\n",
       "      <th>dur</th>\n",
       "      <th>proto</th>\n",
       "      <th>service</th>\n",
       "      <th>state</th>\n",
       "      <th>spkts</th>\n",
       "      <th>dpkts</th>\n",
       "      <th>sbytes</th>\n",
       "      <th>dbytes</th>\n",
       "      <th>rate</th>\n",
       "      <th>...</th>\n",
       "      <th>ct_dst_sport_ltm</th>\n",
       "      <th>ct_dst_src_ltm</th>\n",
       "      <th>is_ftp_login</th>\n",
       "      <th>ct_ftp_cmd</th>\n",
       "      <th>ct_flw_http_mthd</th>\n",
       "      <th>ct_src_ltm</th>\n",
       "      <th>ct_srv_dst</th>\n",
       "      <th>is_sm_ips_ports</th>\n",
       "      <th>attack_cat</th>\n",
       "      <th>label</th>\n",
       "    </tr>\n",
       "  </thead>\n",
       "  <tbody>\n",
       "    <tr>\n",
       "      <th>0</th>\n",
       "      <td>1</td>\n",
       "      <td>0.000011</td>\n",
       "      <td>udp</td>\n",
       "      <td>-</td>\n",
       "      <td>INT</td>\n",
       "      <td>2</td>\n",
       "      <td>0</td>\n",
       "      <td>496</td>\n",
       "      <td>0</td>\n",
       "      <td>90909.0902</td>\n",
       "      <td>...</td>\n",
       "      <td>1</td>\n",
       "      <td>2</td>\n",
       "      <td>0</td>\n",
       "      <td>0</td>\n",
       "      <td>0</td>\n",
       "      <td>1</td>\n",
       "      <td>2</td>\n",
       "      <td>0</td>\n",
       "      <td>Normal</td>\n",
       "      <td>0</td>\n",
       "    </tr>\n",
       "    <tr>\n",
       "      <th>1</th>\n",
       "      <td>2</td>\n",
       "      <td>0.000008</td>\n",
       "      <td>udp</td>\n",
       "      <td>-</td>\n",
       "      <td>INT</td>\n",
       "      <td>2</td>\n",
       "      <td>0</td>\n",
       "      <td>1762</td>\n",
       "      <td>0</td>\n",
       "      <td>125000.0003</td>\n",
       "      <td>...</td>\n",
       "      <td>1</td>\n",
       "      <td>2</td>\n",
       "      <td>0</td>\n",
       "      <td>0</td>\n",
       "      <td>0</td>\n",
       "      <td>1</td>\n",
       "      <td>2</td>\n",
       "      <td>0</td>\n",
       "      <td>Normal</td>\n",
       "      <td>0</td>\n",
       "    </tr>\n",
       "    <tr>\n",
       "      <th>2</th>\n",
       "      <td>3</td>\n",
       "      <td>0.000005</td>\n",
       "      <td>udp</td>\n",
       "      <td>-</td>\n",
       "      <td>INT</td>\n",
       "      <td>2</td>\n",
       "      <td>0</td>\n",
       "      <td>1068</td>\n",
       "      <td>0</td>\n",
       "      <td>200000.0051</td>\n",
       "      <td>...</td>\n",
       "      <td>1</td>\n",
       "      <td>3</td>\n",
       "      <td>0</td>\n",
       "      <td>0</td>\n",
       "      <td>0</td>\n",
       "      <td>1</td>\n",
       "      <td>3</td>\n",
       "      <td>0</td>\n",
       "      <td>Normal</td>\n",
       "      <td>0</td>\n",
       "    </tr>\n",
       "    <tr>\n",
       "      <th>3</th>\n",
       "      <td>4</td>\n",
       "      <td>0.000006</td>\n",
       "      <td>udp</td>\n",
       "      <td>-</td>\n",
       "      <td>INT</td>\n",
       "      <td>2</td>\n",
       "      <td>0</td>\n",
       "      <td>900</td>\n",
       "      <td>0</td>\n",
       "      <td>166666.6608</td>\n",
       "      <td>...</td>\n",
       "      <td>1</td>\n",
       "      <td>3</td>\n",
       "      <td>0</td>\n",
       "      <td>0</td>\n",
       "      <td>0</td>\n",
       "      <td>2</td>\n",
       "      <td>3</td>\n",
       "      <td>0</td>\n",
       "      <td>Normal</td>\n",
       "      <td>0</td>\n",
       "    </tr>\n",
       "    <tr>\n",
       "      <th>4</th>\n",
       "      <td>5</td>\n",
       "      <td>0.000010</td>\n",
       "      <td>udp</td>\n",
       "      <td>-</td>\n",
       "      <td>INT</td>\n",
       "      <td>2</td>\n",
       "      <td>0</td>\n",
       "      <td>2126</td>\n",
       "      <td>0</td>\n",
       "      <td>100000.0025</td>\n",
       "      <td>...</td>\n",
       "      <td>1</td>\n",
       "      <td>3</td>\n",
       "      <td>0</td>\n",
       "      <td>0</td>\n",
       "      <td>0</td>\n",
       "      <td>2</td>\n",
       "      <td>3</td>\n",
       "      <td>0</td>\n",
       "      <td>Normal</td>\n",
       "      <td>0</td>\n",
       "    </tr>\n",
       "  </tbody>\n",
       "</table>\n",
       "<p>5 rows × 45 columns</p>\n",
       "</div>"
      ],
      "text/plain": [
       "   id       dur proto service state  spkts  dpkts  sbytes  dbytes  \\\n",
       "0   1  0.000011   udp       -   INT      2      0     496       0   \n",
       "1   2  0.000008   udp       -   INT      2      0    1762       0   \n",
       "2   3  0.000005   udp       -   INT      2      0    1068       0   \n",
       "3   4  0.000006   udp       -   INT      2      0     900       0   \n",
       "4   5  0.000010   udp       -   INT      2      0    2126       0   \n",
       "\n",
       "          rate  ...    ct_dst_sport_ltm  ct_dst_src_ltm  is_ftp_login  \\\n",
       "0   90909.0902  ...                   1               2             0   \n",
       "1  125000.0003  ...                   1               2             0   \n",
       "2  200000.0051  ...                   1               3             0   \n",
       "3  166666.6608  ...                   1               3             0   \n",
       "4  100000.0025  ...                   1               3             0   \n",
       "\n",
       "   ct_ftp_cmd  ct_flw_http_mthd  ct_src_ltm  ct_srv_dst  is_sm_ips_ports  \\\n",
       "0           0                 0           1           2                0   \n",
       "1           0                 0           1           2                0   \n",
       "2           0                 0           1           3                0   \n",
       "3           0                 0           2           3                0   \n",
       "4           0                 0           2           3                0   \n",
       "\n",
       "   attack_cat  label  \n",
       "0      Normal      0  \n",
       "1      Normal      0  \n",
       "2      Normal      0  \n",
       "3      Normal      0  \n",
       "4      Normal      0  \n",
       "\n",
       "[5 rows x 45 columns]"
      ]
     },
     "execution_count": 142,
     "metadata": {},
     "output_type": "execute_result"
    }
   ],
   "source": [
    "train_df.head()"
   ]
  },
  {
   "cell_type": "code",
   "execution_count": 143,
   "metadata": {
    "collapsed": true
   },
   "outputs": [],
   "source": [
    "y = train_df.label.values"
   ]
  },
  {
   "cell_type": "code",
   "execution_count": 144,
   "metadata": {},
   "outputs": [],
   "source": [
    "train = train_df.drop(['label','attack_cat','id'],axis=1)"
   ]
  },
  {
   "cell_type": "code",
   "execution_count": 145,
   "metadata": {
    "collapsed": true
   },
   "outputs": [],
   "source": [
    "for attribute in [\"proto\",\"service\",\"state\"]:\n",
    "    le_attribute = preprocessing.LabelEncoder()   \n",
    "    train[attribute] = le_attribute.fit_transform(train[attribute])\n",
    "X = train.as_matrix()"
   ]
  },
  {
   "cell_type": "code",
   "execution_count": 146,
   "metadata": {
    "collapsed": true
   },
   "outputs": [],
   "source": [
    "#X_data = pd.get_dummies(train).values  # one-hot encoding. change category value to numberica value matrix"
   ]
  },
  {
   "cell_type": "code",
   "execution_count": 147,
   "metadata": {},
   "outputs": [],
   "source": [
    "#X = X_data[:train.shape[0]]  "
   ]
  },
  {
   "cell_type": "markdown",
   "metadata": {},
   "source": [
    "## train a classfiier"
   ]
  },
  {
   "cell_type": "code",
   "execution_count": 148,
   "metadata": {},
   "outputs": [
    {
     "name": "stdout",
     "output_type": "stream",
     "text": [
      "Fold 1 (65865, 42) (16467, 42)\n",
      "0.529116660648\n",
      "0.527667413931\n",
      "             precision    recall  f1-score   support\n",
      "\n",
      "          0       0.67      0.88      0.76      7400\n",
      "          1       0.87      0.65      0.74      9067\n",
      "\n",
      "avg / total       0.78      0.75      0.75     16467\n",
      "\n",
      "Fold 2 (65865, 42) (16467, 42)\n",
      "0.528194933479\n",
      "0.51759742656\n",
      "             precision    recall  f1-score   support\n",
      "\n",
      "          0       0.68      0.87      0.76      7400\n",
      "          1       0.86      0.67      0.75      9067\n",
      "\n",
      "avg / total       0.78      0.76      0.76     16467\n",
      "\n",
      "Fold 3 (65866, 42) (16466, 42)\n",
      "0.527851299815\n",
      "0.529765003826\n",
      "             precision    recall  f1-score   support\n",
      "\n",
      "          0       0.68      0.87      0.76      7400\n",
      "          1       0.86      0.66      0.75      9066\n",
      "\n",
      "avg / total       0.78      0.75      0.75     16466\n",
      "\n",
      "Fold 4 (65866, 42) (16466, 42)\n",
      "0.52655129189\n",
      "0.534116248486\n",
      "             precision    recall  f1-score   support\n",
      "\n",
      "          0       0.68      0.86      0.76      7400\n",
      "          1       0.86      0.66      0.75      9066\n",
      "\n",
      "avg / total       0.78      0.75      0.75     16466\n",
      "\n",
      "Fold 5 (65866, 42) (16466, 42)\n",
      "0.548064891704\n",
      "0.550556935651\n",
      "             precision    recall  f1-score   support\n",
      "\n",
      "          0       0.68      0.87      0.76      7400\n",
      "          1       0.86      0.66      0.75      9066\n",
      "\n",
      "avg / total       0.78      0.75      0.75     16466\n",
      "\n"
     ]
    }
   ],
   "source": [
    "from sklearn import metrics, model_selection\n",
    "from sklearn.linear_model import LogisticRegression\n",
    "from sklearn.metrics import classification_report\n",
    "n_folds = 5\n",
    "kf = model_selection.StratifiedKFold(n_splits=n_folds, random_state=1, shuffle=True)\n",
    "fold = 0\n",
    "#target_names = {'class 1','class 2','class 3','class 4','class 5','class 6','class 7','class 8','class 9'}\n",
    "for train_index, test_index in kf.split(X, y):\n",
    "    fold += 1\n",
    "    X_train, X_valid    = X[train_index], X[test_index]\n",
    "    y_train, y_valid    = y[train_index], y[test_index]\n",
    "    \n",
    "    print(\"Fold\", fold, X_train.shape, X_valid.shape)\n",
    "    \n",
    "    clf = LogisticRegression(C=3)\n",
    "    clf.fit(X_train, y_train)\n",
    "    p_train = clf.predict_proba(X_train)\n",
    "    p_valid = clf.predict_proba(X_valid)\n",
    "        \n",
    "    y_predict_train = clf.predict(X_train)\n",
    "    y_predict_valid = clf.predict(X_valid)\n",
    "    \n",
    "\n",
    "    print(metrics.log_loss(y_train, p_train))\n",
    "    print(metrics.log_loss(y_valid, p_valid))\n",
    "    print(classification_report(y_valid, y_predict_valid))\n",
    "    "
   ]
  },
  {
   "cell_type": "code",
   "execution_count": 149,
   "metadata": {},
   "outputs": [
    {
     "name": "stdout",
     "output_type": "stream",
     "text": [
      "Fold 1 (65865, 42) (16467, 42)\n",
      "SVM correct prediction: 0.67\n",
      "Fold 2 (65865, 42) (16467, 42)\n",
      "SVM correct prediction: 0.63\n",
      "Fold 3 (65866, 42) (16466, 42)\n",
      "SVM correct prediction: 0.45\n",
      "Fold 4 (65866, 42) (16466, 42)\n",
      "SVM correct prediction: 0.71\n",
      "Fold 5 (65866, 42) (16466, 42)\n",
      "SVM correct prediction: 0.75\n"
     ]
    }
   ],
   "source": [
    "from sklearn.preprocessing import normalize\n",
    "\n",
    "from sklearn.linear_model import SGDClassifier\n",
    "n_folds = 5\n",
    "kf = model_selection.StratifiedKFold(n_splits=n_folds, random_state=1, shuffle=True)\n",
    "fold = 0\n",
    "#target_names = {'class 1','class 2','class 3','class 4','class 5','class 6','class 7','class 8','class 9'}\n",
    "for train_index, test_index in kf.split(X, y):\n",
    "    fold += 1\n",
    "    X_train, X_valid    = X[train_index], X[test_index]\n",
    "    y_train, y_valid    = y[train_index], y[test_index]\n",
    "    \n",
    "    print(\"Fold\", fold, X_train.shape, X_valid.shape)\n",
    "    \n",
    "    clf = SGDClassifier(loss='hinge', penalty='l2', alpha=1e-3, n_iter=   5, random_state=42)\n",
    "    clf.fit(X_train, y_train)\n",
    "    \n",
    "        \n",
    "    y_predict_train = clf.predict(X_train)\n",
    "    y_predict_valid = clf.predict(X_valid)\n",
    "    \n",
    "\n",
    "    #print(metrics.log_loss(y_train, p_train))\n",
    "    #print(metrics.log_loss(y_valid, p_valid))\n",
    "    print('SVM correct prediction: {:4.2f}'.format(np.mean(y_predict_valid == y_valid)))"
   ]
  },
  {
   "cell_type": "code",
   "execution_count": 150,
   "metadata": {},
   "outputs": [
    {
     "name": "stdout",
     "output_type": "stream",
     "text": [
      "Fold 1 (65865, 42) (16467, 42)\n",
      "SVM correct prediction: 0.75\n",
      "Fold 2 (65865, 42) (16467, 42)\n",
      "SVM correct prediction: 0.76\n",
      "Fold 3 (65866, 42) (16466, 42)\n",
      "SVM correct prediction: 0.75\n",
      "Fold 4 (65866, 42) (16466, 42)\n",
      "SVM correct prediction: 0.75\n",
      "Fold 5 (65866, 42) (16466, 42)\n",
      "SVM correct prediction: 0.75\n"
     ]
    }
   ],
   "source": [
    "from sklearn.preprocessing import normalize\n",
    "X = preprocessing.normalize(X, norm='l2')\n",
    "\n",
    "from sklearn.linear_model import SGDClassifier\n",
    "n_folds = 5\n",
    "kf = model_selection.StratifiedKFold(n_splits=n_folds, random_state=1, shuffle=True)\n",
    "fold = 0\n",
    "#target_names = {'class 1','class 2','class 3','class 4','class 5','class 6','class 7','class 8','class 9'}\n",
    "for train_index, test_index in kf.split(X, y):\n",
    "    fold += 1\n",
    "    X_train, X_valid    = X[train_index], X[test_index]\n",
    "    y_train, y_valid    = y[train_index], y[test_index]\n",
    "    \n",
    "    print(\"Fold\", fold, X_train.shape, X_valid.shape)\n",
    "    \n",
    "    clf = SGDClassifier(loss='hinge', penalty='l2', alpha=1e-3, n_iter=   5, random_state=42)\n",
    "    clf.fit(X_train, y_train)\n",
    "    \n",
    "        \n",
    "    y_predict_train = clf.predict(X_train)\n",
    "    y_predict_valid = clf.predict(X_valid)\n",
    "    \n",
    "\n",
    "    #print(metrics.log_loss(y_train, p_train))\n",
    "    #print(metrics.log_loss(y_valid, p_valid))\n",
    "    print('SVM correct prediction: {:4.2f}'.format(np.mean(y_predict_valid == y_valid)))"
   ]
  },
  {
   "cell_type": "code",
   "execution_count": 151,
   "metadata": {},
   "outputs": [
    {
     "name": "stdout",
     "output_type": "stream",
     "text": [
      "Fold 1 (65865, 42) (16467, 42)\n",
      "0.750045545637\n",
      "Fold 2 (65865, 42) (16467, 42)\n",
      "0.757697212607\n",
      "Fold 3 (65866, 42) (16466, 42)\n",
      "0.752581076157\n",
      "Fold 4 (65866, 42) (16466, 42)\n",
      "0.752520344953\n",
      "Fold 5 (65866, 42) (16466, 42)\n",
      "0.752945463379\n"
     ]
    }
   ],
   "source": [
    "from sklearn.naive_bayes import MultinomialNB\n",
    "n_folds = 5\n",
    "kf = model_selection.StratifiedKFold(n_splits=n_folds, random_state=1, shuffle=True)\n",
    "fold = 0\n",
    "#target_names = {'class 1','class 2','class 3','class 4','class 5','class 6','class 7','class 8','class 9'}\n",
    "for train_index, test_index in kf.split(X, y):\n",
    "    fold += 1\n",
    "    X_train, X_valid    = X[train_index], X[test_index]\n",
    "    y_train, y_valid    = y[train_index], y[test_index]\n",
    "    \n",
    "    print(\"Fold\", fold, X_train.shape, X_valid.shape)\n",
    "    \n",
    "    clf = MultinomialNB()\n",
    "    clf.fit(X_train, y_train)\n",
    "    p_train = clf.predict_proba(X_train)\n",
    "    p_valid = clf.predict_proba(X_valid)\n",
    "        \n",
    "    y_predict_train = clf.predict(X_train)\n",
    "    y_predict_valid = clf.predict(X_valid)\n",
    "    \n",
    "\n",
    "    #print(metrics.log_loss(y_train, p_train))\n",
    "    #print(metrics.log_loss(y_valid, p_valid))\n",
    "    print(np.mean(y_predict_valid == y_valid))   \n",
    "    #print(classification_report(y_valid, y_predict_valid))\n",
    "    "
   ]
  },
  {
   "cell_type": "code",
   "execution_count": 153,
   "metadata": {},
   "outputs": [
    {
     "name": "stdout",
     "output_type": "stream",
     "text": [
      "Fold 1 (65865, 42) (16467, 42)\n"
     ]
    },
    {
     "ename": "AttributeError",
     "evalue": "predict_proba is not available when  probability=False",
     "output_type": "error",
     "traceback": [
      "\u001b[0;31m---------------------------------------------------------------------------\u001b[0m",
      "\u001b[0;31mAttributeError\u001b[0m                            Traceback (most recent call last)",
      "\u001b[0;32m<ipython-input-153-c6ce72ef50de>\u001b[0m in \u001b[0;36m<module>\u001b[0;34m()\u001b[0m\n\u001b[1;32m     12\u001b[0m \u001b[0;34m\u001b[0m\u001b[0m\n\u001b[1;32m     13\u001b[0m     \u001b[0mclf\u001b[0m \u001b[0;34m=\u001b[0m \u001b[0msvm\u001b[0m\u001b[0;34m.\u001b[0m\u001b[0mSVC\u001b[0m\u001b[0;34m(\u001b[0m\u001b[0mkernel\u001b[0m\u001b[0;34m=\u001b[0m\u001b[0;34m'linear'\u001b[0m\u001b[0;34m,\u001b[0m \u001b[0mC\u001b[0m\u001b[0;34m=\u001b[0m\u001b[0;36m1\u001b[0m\u001b[0;34m)\u001b[0m\u001b[0;34m.\u001b[0m\u001b[0mfit\u001b[0m\u001b[0;34m(\u001b[0m\u001b[0mX_train\u001b[0m\u001b[0;34m,\u001b[0m \u001b[0my_train\u001b[0m\u001b[0;34m)\u001b[0m\u001b[0;34m\u001b[0m\u001b[0m\n\u001b[0;32m---> 14\u001b[0;31m     \u001b[0mp_train\u001b[0m \u001b[0;34m=\u001b[0m \u001b[0mclf\u001b[0m\u001b[0;34m.\u001b[0m\u001b[0mpredict_proba\u001b[0m\u001b[0;34m(\u001b[0m\u001b[0mX_train\u001b[0m\u001b[0;34m)\u001b[0m\u001b[0;34m\u001b[0m\u001b[0m\n\u001b[0m\u001b[1;32m     15\u001b[0m     \u001b[0mp_valid\u001b[0m \u001b[0;34m=\u001b[0m \u001b[0mclf\u001b[0m\u001b[0;34m.\u001b[0m\u001b[0mpredict_proba\u001b[0m\u001b[0;34m(\u001b[0m\u001b[0mX_valid\u001b[0m\u001b[0;34m)\u001b[0m\u001b[0;34m\u001b[0m\u001b[0m\n\u001b[1;32m     16\u001b[0m \u001b[0;34m\u001b[0m\u001b[0m\n",
      "\u001b[0;32m/Users/zhaojuan/anaconda/lib/python3.6/site-packages/sklearn/svm/base.py\u001b[0m in \u001b[0;36mpredict_proba\u001b[0;34m(self)\u001b[0m\n\u001b[1;32m    613\u001b[0m         \u001b[0mdatasets\u001b[0m\u001b[0;34m.\u001b[0m\u001b[0;34m\u001b[0m\u001b[0m\n\u001b[1;32m    614\u001b[0m         \"\"\"\n\u001b[0;32m--> 615\u001b[0;31m         \u001b[0mself\u001b[0m\u001b[0;34m.\u001b[0m\u001b[0m_check_proba\u001b[0m\u001b[0;34m(\u001b[0m\u001b[0;34m)\u001b[0m\u001b[0;34m\u001b[0m\u001b[0m\n\u001b[0m\u001b[1;32m    616\u001b[0m         \u001b[0;32mreturn\u001b[0m \u001b[0mself\u001b[0m\u001b[0;34m.\u001b[0m\u001b[0m_predict_proba\u001b[0m\u001b[0;34m\u001b[0m\u001b[0m\n\u001b[1;32m    617\u001b[0m \u001b[0;34m\u001b[0m\u001b[0m\n",
      "\u001b[0;32m/Users/zhaojuan/anaconda/lib/python3.6/site-packages/sklearn/svm/base.py\u001b[0m in \u001b[0;36m_check_proba\u001b[0;34m(self)\u001b[0m\n\u001b[1;32m    580\u001b[0m     \u001b[0;32mdef\u001b[0m \u001b[0m_check_proba\u001b[0m\u001b[0;34m(\u001b[0m\u001b[0mself\u001b[0m\u001b[0;34m)\u001b[0m\u001b[0;34m:\u001b[0m\u001b[0;34m\u001b[0m\u001b[0m\n\u001b[1;32m    581\u001b[0m         \u001b[0;32mif\u001b[0m \u001b[0;32mnot\u001b[0m \u001b[0mself\u001b[0m\u001b[0;34m.\u001b[0m\u001b[0mprobability\u001b[0m\u001b[0;34m:\u001b[0m\u001b[0;34m\u001b[0m\u001b[0m\n\u001b[0;32m--> 582\u001b[0;31m             raise AttributeError(\"predict_proba is not available when \"\n\u001b[0m\u001b[1;32m    583\u001b[0m                                  \" probability=False\")\n\u001b[1;32m    584\u001b[0m         \u001b[0;32mif\u001b[0m \u001b[0mself\u001b[0m\u001b[0;34m.\u001b[0m\u001b[0m_impl\u001b[0m \u001b[0;32mnot\u001b[0m \u001b[0;32min\u001b[0m \u001b[0;34m(\u001b[0m\u001b[0;34m'c_svc'\u001b[0m\u001b[0;34m,\u001b[0m \u001b[0;34m'nu_svc'\u001b[0m\u001b[0;34m)\u001b[0m\u001b[0;34m:\u001b[0m\u001b[0;34m\u001b[0m\u001b[0m\n",
      "\u001b[0;31mAttributeError\u001b[0m: predict_proba is not available when  probability=False"
     ]
    }
   ],
   "source": [
    "from sklearn import svm\n",
    "n_folds = 5\n",
    "kf = model_selection.StratifiedKFold(n_splits=n_folds, random_state=1, shuffle=True)\n",
    "fold = 0\n",
    "#target_names = {'class 1','class 2','class 3','class 4','class 5','class 6','class 7','class 8','class 9'}\n",
    "for train_index, test_index in kf.split(X, y):\n",
    "    fold += 1\n",
    "    X_train, X_valid    = X[train_index], X[test_index]\n",
    "    y_train, y_valid    = y[train_index], y[test_index]\n",
    "    \n",
    "    print(\"Fold\", fold, X_train.shape, X_valid.shape)\n",
    "    \n",
    "    clf = svm.SVC(kernel='linear', C=1).fit(X_train, y_train)\n",
    "    p_train = clf.predict_proba(X_train)\n",
    "    p_valid = clf.predict_proba(X_valid)\n",
    "        \n",
    "    y_predict_train = clf.predict(X_train)\n",
    "    y_predict_valid = clf.predict(X_valid)\n",
    "    \n",
    "\n",
    "    #print(metrics.log_loss(y_train, p_train))\n",
    "    #print(metrics.log_loss(y_valid, p_valid))\n",
    "    print(np.mean(y_predict_valid == y_valid))   \n",
    "    #print(classification_report(y_valid, y_predict_valid))\n",
    "    "
   ]
  }
 ],
 "metadata": {
  "kernelspec": {
   "display_name": "Python 3",
   "language": "python",
   "name": "python3"
  },
  "language_info": {
   "codemirror_mode": {
    "name": "ipython",
    "version": 3
   },
   "file_extension": ".py",
   "mimetype": "text/x-python",
   "name": "python",
   "nbconvert_exporter": "python",
   "pygments_lexer": "ipython3",
   "version": "3.6.1"
  }
 },
 "nbformat": 4,
 "nbformat_minor": 2
}
