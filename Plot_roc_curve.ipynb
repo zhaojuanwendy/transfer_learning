{
 "cells": [
  {
   "cell_type": "markdown",
   "metadata": {},
   "source": [
    "## Plot ROC_Curve"
   ]
  },
  {
   "cell_type": "code",
   "execution_count": 32,
   "metadata": {
    "collapsed": true
   },
   "outputs": [],
   "source": [
    "import numpy as np\n",
    "import matplotlib.pyplot as plt\n",
    "%matplotlib inline\n",
    "import pandas as pd\n",
    "import os\n",
    "from sklearn import preprocessing\n",
    "from sklearn.metrics import accuracy_score\n",
    "from sklearn.metrics import precision_score\n",
    "from sklearn.metrics import recall_score\n",
    "from sklearn.metrics import f1_score"
   ]
  },
  {
   "cell_type": "code",
   "execution_count": 33,
   "metadata": {
    "collapsed": false
   },
   "outputs": [],
   "source": [
    "domain = 'dos_vs_probe'\n",
    "data_folder = 'matlab/data/'+domain+'/result/'\n",
    "folder_name = 'norm.k4.b0'\n",
    "train = pd.read_csv(os.path.join(data_folder, folder_name)+\"/transformed_source.csv\",header = None) \n",
    "test = pd.read_csv(os.path.join(data_folder, folder_name)+\"/transformed_target.csv\",header = None) \n",
    "features_len = len(test.columns)-1"
   ]
  },
  {
   "cell_type": "code",
   "execution_count": 34,
   "metadata": {
    "collapsed": true
   },
   "outputs": [],
   "source": [
    "X_train = train.iloc[:,0:features_len].as_matrix()\n",
    "y_train = train.iloc[:,features_len]\n",
    "X_test = test.iloc[:,0:features_len].as_matrix()\n",
    "y_test = test.iloc[:,features_len]"
   ]
  },
  {
   "cell_type": "code",
   "execution_count": 35,
   "metadata": {
    "collapsed": false
   },
   "outputs": [
    {
     "name": "stdout",
     "output_type": "stream",
     "text": [
      "0.4965\n",
      "accuracy 0.4965\n",
      "f1 0.663548279318\n",
      "0.4965\n",
      "1.0\n"
     ]
    }
   ],
   "source": [
    "from sklearn import svm\n",
    "_train = preprocessing.normalize(X_train, norm='l2')\n",
    "_test = preprocessing.normalize(X_test, norm='l2')\n",
    "clf = svm.SVC(kernel='linear', C=1,probability=True).fit(_train, y_train)\n",
    "y_score_svm = clf.predict_proba(_test)[:,1]\n",
    "y_pred = clf.predict(_test)\n",
    "print accuracy_score(y_test, y_pred)\n",
    "print \"accuracy\" ,clf.score(_test, y_test)\n",
    "print 'f1',f1_score(y_test, y_pred, average='binary',pos_label=1)  \n",
    "print precision_score(y_test, y_pred, average='binary',pos_label=1)  \n",
    "print recall_score(y_test, y_pred, average='binary',pos_label=1)  "
   ]
  },
  {
   "cell_type": "code",
   "execution_count": 36,
   "metadata": {
    "collapsed": true
   },
   "outputs": [],
   "source": [
    "def plot_roc(y_test, y_score,title):\n",
    "    from sklearn import metrics\n",
    "    fpr, tpr, threth_hold = metrics.roc_curve(y_test, y_score)\n",
    "    roc_auc = metrics.auc(fpr, tpr)\n",
    "    plt.title(title)\n",
    "    plt.plot(fpr, tpr, label='ROC curve (AUC = %0.2f)' % roc_auc)\n",
    "    print tpr\n",
    "    ##############################################################################\n",
    "    # Plot of a ROC curve for a specific class\n",
    "    plt.plot([0, 1], [0, 1], 'k--')\n",
    "    plt.xlim([0.0, 1.0])\n",
    "    plt.ylim([0.0, 1.05])\n",
    "    plt.xlabel('False Positive Rate')\n",
    "    plt.ylabel('True Positive Rate')\n",
    "    plt.title('Receiver operating characteristic example')\n",
    "    plt.legend( loc=\"lower right\") \n",
    "    plt.show()"
   ]
  },
  {
   "cell_type": "code",
   "execution_count": 37,
   "metadata": {
    "collapsed": false
   },
   "outputs": [
    {
     "name": "stdout",
     "output_type": "stream",
     "text": [
      "[ 0.  1.]\n"
     ]
    },
    {
     "data": {
      "image/png": "[encoded data removed]",
      "text/plain": [
       "<matplotlib.figure.Figure at 0x943db70>"
      ]
     },
     "metadata": {},
     "output_type": "display_data"
    }
   ],
   "source": [
    "plot_roc(y_test, y_pred,domain)"
   ]
  }
 ],
 "metadata": {
  "kernelspec": {
   "display_name": "Python 2",
   "language": "python",
   "name": "python2"
  },
  "language_info": {
   "codemirror_mode": {
    "name": "ipython",
    "version": 2
   },
   "file_extension": ".py",
   "mimetype": "text/x-python",
   "name": "python",
   "nbconvert_exporter": "python",
   "pygments_lexer": "ipython2",
   "version": "2.7.11"
  }
 },
 "nbformat": 4,
 "nbformat_minor": 0
}
