{
 "cells": [
  {
   "cell_type": "markdown",
   "metadata": {},
   "source": [
    "# classfication"
   ]
  },
  {
   "cell_type": "code",
   "execution_count": 4,
   "metadata": {},
   "outputs": [],
   "source": [
    "import matplotlib.pyplot as plt\n",
    "%matplotlib inline\n",
    "import numpy as np\n",
    "import pandas as pd\n",
    "from sklearn import preprocessing\n",
    "from sklearn.preprocessing import normalize"
   ]
  },
  {
   "cell_type": "markdown",
   "metadata": {},
   "source": [
    "## data preprocessed"
   ]
  },
  {
   "cell_type": "code",
   "execution_count": 5,
   "metadata": {
    "collapsed": true
   },
   "outputs": [],
   "source": [
    "def convert_attributes_integer(df):\n",
    "    # change catergory data to integers, because sklearn only accept integer input.\n",
    "    for attribute in [\"protocol_type\",\"service\",\"flag\"]:\n",
    "        le_attribute = preprocessing.LabelEncoder()   \n",
    "        df[attribute] = le_attribute.fit_transform(df[attribute])\n",
    "    #le_class = preprocessing.LabelEncoder()\n",
    "    #df['class'] = le_class.fit_transform(df['class'])\n",
    "    return df"
   ]
  },
  {
   "cell_type": "code",
   "execution_count": 6,
   "metadata": {},
   "outputs": [],
   "source": [
    "#train = pd.read_csv(\"data/all/KDDTrain_new_mattrix.csv\") \n",
    "train = pd.read_csv(\"data/split-data/dos_vs_probe/KDDTrain_dos_rand_matrix.csv\") \n",
    "X_train = train.iloc[:,0:41].as_matrix()\n",
    "y_train = train['class']\n",
    "#test = pd.read_csv(\"data/all/KDDTest_new_mattrix.csv\") \n",
    "test = pd.read_csv(\"data/split-data/dos_vs_probe/KDDTest_probe_rand_matrix.csv\") \n",
    "X_test = test.iloc[:,0:41].as_matrix()\n",
    "#le_class = preprocessing.LabelEncoder()\n",
    "#test['class'] = le_class.fit_transform(test['class'])\n",
    "y_test = test['class']"
   ]
  },
  {
   "cell_type": "code",
   "execution_count": 7,
   "metadata": {},
   "outputs": [
    {
     "name": "stdout",
     "output_type": "stream",
     "text": [
      "accuracy: 0.64076837321\n"
     ]
    }
   ],
   "source": [
    "#descision tree\n",
    "from sklearn import tree\n",
    "clf = tree.DecisionTreeClassifier(max_depth=5)\n",
    "clf.fit(X_train,y_train)\n",
    "print \"accuracy:\", clf.score(X_test,y_test)"
   ]
  },
  {
   "cell_type": "code",
   "execution_count": 8,
   "metadata": {},
   "outputs": [
    {
     "name": "stdout",
     "output_type": "stream",
     "text": [
      "accuracy: 0.614098276306\n"
     ]
    }
   ],
   "source": [
    "#randomforest\n",
    "from sklearn import ensemble\n",
    "clf = ensemble.RandomForestClassifier(n_estimators=100)\n",
    "clf.fit (X_train, y_train)\n",
    "print \"accuracy:\",clf.score(X_test,y_test)"
   ]
  },
  {
   "cell_type": "code",
   "execution_count": 9,
   "metadata": {},
   "outputs": [
    {
     "name": "stdout",
     "output_type": "stream",
     "text": [
      "accuracy: 0.742560672327\n"
     ]
    }
   ],
   "source": [
    "from sklearn import svm\n",
    "X_train = preprocessing.normalize(X_train, norm='l2')\n",
    "X_test = preprocessing.normalize(X_test, norm='l2')\n",
    "clf = svm.SVC(kernel='linear', C=1).fit(X_train, y_train)\n",
    "print \"accuracy:\", clf.score(X_test,y_test)                   "
   ]
  },
  {
   "cell_type": "code",
   "execution_count": 10,
   "metadata": {},
   "outputs": [
    {
     "name": "stdout",
     "output_type": "stream",
     "text": [
      "Number of mislabeled points out of a total 23322 points : 8325\n"
     ]
    }
   ],
   "source": [
    "from sklearn.naive_bayes import GaussianNB\n",
    "gnb = GaussianNB()\n",
    "y_pred = gnb.fit(X_train, y_train).predict(X_test)\n",
    "print(\"Number of mislabeled points out of a total %d points : %d\" % (X_test.shape[0],(y_test != y_pred).sum()))"
   ]
  }
 ],
 "metadata": {
  "kernelspec": {
   "display_name": "Python 3",
   "language": "python",
   "name": "python3"
  },
  "language_info": {
   "codemirror_mode": {
    "name": "ipython",
    "version": 3
   },
   "file_extension": ".py",
   "mimetype": "text/x-python",
   "name": "python",
   "nbconvert_exporter": "python",
   "pygments_lexer": "ipython3",
   "version": "3.6.1"
  }
 },
 "nbformat": 4,
 "nbformat_minor": 1
}
